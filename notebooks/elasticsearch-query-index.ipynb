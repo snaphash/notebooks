{
 "cells": [
  {
   "cell_type": "code",
   "execution_count": null,
   "id": "ffdf235a",
   "metadata": {},
   "outputs": [],
   "source": [
    "import sys\n",
    "!{sys.executable} -m pip install elasticsearch"
   ]
  },
  {
   "cell_type": "code",
   "execution_count": 77,
   "id": "1e58478c",
   "metadata": {},
   "outputs": [],
   "source": [
    "from elasticsearch import Elasticsearch, helpers\n",
    "\n",
    "es = Elasticsearch([{'host': 'elasticsearch.db.svc.cluster.local',  'port':9200}])\n",
    "es_index = \"ethereum-mainnet-blocks\"\n",
    "documento = \"_doc\"\n",
    "\n",
    "zone = \"abc\"\n",
    "\n",
    "body = {\n",
    "#         \"query\": {\n",
    "#         \"match\" : { \"ZONE\" : zone } \n",
    "#              }\n",
    "        }\n",
    "\n",
    "res = helpers.scan(\n",
    "                client = es,\n",
    "                scroll = '2m',\n",
    "                query = body, \n",
    "                index = es_index)\n",
    "    \n",
    "with open('ethereum-mainnet-blocks.txt', 'w') as f:\n",
    "    for row in res:\n",
    "        f.write(\"%s\\n\" % str(row)) \n"
   ]
  },
  {
   "cell_type": "code",
   "execution_count": 75,
   "id": "2be745dd",
   "metadata": {},
   "outputs": [],
   "source": []
  },
  {
   "cell_type": "code",
   "execution_count": null,
   "id": "8c81b17c",
   "metadata": {},
   "outputs": [],
   "source": []
  }
 ],
 "metadata": {
  "kernelspec": {
   "display_name": "Python 3",
   "language": "python",
   "name": "python3"
  },
  "language_info": {
   "codemirror_mode": {
    "name": "ipython",
    "version": 3
   },
   "file_extension": ".py",
   "mimetype": "text/x-python",
   "name": "python",
   "nbconvert_exporter": "python",
   "pygments_lexer": "ipython3",
   "version": "3.9.2"
  }
 },
 "nbformat": 4,
 "nbformat_minor": 5
}
